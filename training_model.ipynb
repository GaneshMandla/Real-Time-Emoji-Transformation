{
 "cells": [
  {
   "cell_type": "code",
   "execution_count": 1,
   "id": "6431cc5f",
   "metadata": {},
   "outputs": [],
   "source": [
    "# Importing Required Libraries\n",
    "import numpy as np\n",
    "import cv2\n",
    "import matplotlib.pyplot as plt\n",
    "from tensorflow.keras.models import Sequential\n",
    "from tensorflow.keras.layers import Dense, Dropout, Flatten\n",
    "from tensorflow.keras.layers import Conv2D\n",
    "from tensorflow.keras.layers import MaxPooling2D\n",
    "from tensorflow.keras.optimizers import Adam \n",
    "from tensorflow.keras.optimizers.schedules import ExponentialDecay\n",
    "from tensorflow.keras.preprocessing.image import ImageDataGenerator"
   ]
  },
  {
   "cell_type": "code",
   "execution_count": 2,
   "id": "887def2c",
   "metadata": {},
   "outputs": [
    {
     "name": "stdout",
     "output_type": "stream",
     "text": [
      "Found 28709 images belonging to 7 classes.\n",
      "Found 7178 images belonging to 7 classes.\n"
     ]
    }
   ],
   "source": [
    "# Initialize the training and validation generators\n",
    "train_dir = 'train'\n",
    "test_dir = 'test'\n",
    "train_datagenerator = ImageDataGenerator(rescale=1./255)\n",
    "test_datagenerator = ImageDataGenerator(rescale=1./255)\n",
    "\n",
    "train_generator = train_datagenerator.flow_from_directory(\n",
    "        train_dir,\n",
    "        target_size=(48,48),\n",
    "        batch_size=64,\n",
    "        color_mode=\"grayscale\",\n",
    "        class_mode='categorical')\n",
    "\n",
    "test_generator = test_datagenerator.flow_from_directory(\n",
    "        test_dir,\n",
    "        target_size=(48,48),\n",
    "        batch_size=64,\n",
    "        color_mode=\"grayscale\",\n",
    "        class_mode='categorical')"
   ]
  },
  {
   "cell_type": "code",
   "execution_count": 3,
   "id": "8ba48f29",
   "metadata": {},
   "outputs": [],
   "source": [
    "# Building the CNN architecture\n",
    "# with four conv2D layers, two dense layers and one flatten layer\n",
    "recognition_model = Sequential()\n",
    "\n",
    "recognition_model.add(Conv2D(32, kernel_size=(3, 3), activation='relu', input_shape=(48,48,1)))\n",
    "recognition_model.add(Conv2D(64, kernel_size=(3, 3), activation='relu'))\n",
    "recognition_model.add(MaxPooling2D(pool_size=(2, 2)))\n",
    "recognition_model.add(Dropout(0.25))\n",
    "\n",
    "recognition_model.add(Conv2D(128, kernel_size=(3, 3), activation='relu'))\n",
    "recognition_model.add(MaxPooling2D(pool_size=(2, 2)))\n",
    "recognition_model.add(Conv2D(128, kernel_size=(3, 3), activation='relu'))\n",
    "recognition_model.add(MaxPooling2D(pool_size=(2, 2)))\n",
    "recognition_model.add(Dropout(0.25))\n",
    "\n",
    "recognition_model.add(Flatten())\n",
    "recognition_model.add(Dense(1024, activation='relu'))\n",
    "recognition_model.add(Dropout(0.5))\n",
    "recognition_model.add(Dense(7, activation='softmax'))"
   ]
  },
  {
   "cell_type": "code",
   "execution_count": 4,
   "id": "46f64db5",
   "metadata": {},
   "outputs": [
    {
     "name": "stdout",
     "output_type": "stream",
     "text": [
      "Model: \"sequential\"\n",
      "_________________________________________________________________\n",
      " Layer (type)                Output Shape              Param #   \n",
      "=================================================================\n",
      " conv2d (Conv2D)             (None, 46, 46, 32)        320       \n",
      "                                                                 \n",
      " conv2d_1 (Conv2D)           (None, 44, 44, 64)        18496     \n",
      "                                                                 \n",
      " max_pooling2d (MaxPooling2D  (None, 22, 22, 64)       0         \n",
      " )                                                               \n",
      "                                                                 \n",
      " dropout (Dropout)           (None, 22, 22, 64)        0         \n",
      "                                                                 \n",
      " conv2d_2 (Conv2D)           (None, 20, 20, 128)       73856     \n",
      "                                                                 \n",
      " max_pooling2d_1 (MaxPooling  (None, 10, 10, 128)      0         \n",
      " 2D)                                                             \n",
      "                                                                 \n",
      " conv2d_3 (Conv2D)           (None, 8, 8, 128)         147584    \n",
      "                                                                 \n",
      " max_pooling2d_2 (MaxPooling  (None, 4, 4, 128)        0         \n",
      " 2D)                                                             \n",
      "                                                                 \n",
      " dropout_1 (Dropout)         (None, 4, 4, 128)         0         \n",
      "                                                                 \n",
      " flatten (Flatten)           (None, 2048)              0         \n",
      "                                                                 \n",
      " dense (Dense)               (None, 1024)              2098176   \n",
      "                                                                 \n",
      " dropout_2 (Dropout)         (None, 1024)              0         \n",
      "                                                                 \n",
      " dense_1 (Dense)             (None, 7)                 7175      \n",
      "                                                                 \n",
      "=================================================================\n",
      "Total params: 2,345,607\n",
      "Trainable params: 2,345,607\n",
      "Non-trainable params: 0\n",
      "_________________________________________________________________\n"
     ]
    }
   ],
   "source": [
    "# Getting Model Summary\n",
    "recognition_model.summary()"
   ]
  },
  {
   "cell_type": "code",
   "execution_count": 5,
   "id": "eaed7374",
   "metadata": {},
   "outputs": [],
   "source": [
    "# Disable OpenCL\n",
    "cv2.ocl.setUseOpenCL(False)"
   ]
  },
  {
   "cell_type": "code",
   "execution_count": 6,
   "id": "c8045a43",
   "metadata": {},
   "outputs": [],
   "source": [
    "# Define the learning rate schedule\n",
    "initial_learning_rate = 0.0001\n",
    "lr_schedule = ExponentialDecay(initial_learning_rate, decay_steps=10000, decay_rate=0.96)\n"
   ]
  },
  {
   "cell_type": "code",
   "execution_count": 7,
   "id": "4ed94431",
   "metadata": {},
   "outputs": [],
   "source": [
    "# Compile Model\n",
    "recognition_model.compile(loss='categorical_crossentropy', optimizer=Adam(learning_rate=lr_schedule), metrics=['accuracy'])\n"
   ]
  },
  {
   "cell_type": "code",
   "execution_count": 8,
   "id": "bf734485",
   "metadata": {},
   "outputs": [
    {
     "name": "stdout",
     "output_type": "stream",
     "text": [
      "Epoch 1/50\n",
      "448/448 [==============================] - 217s 476ms/step - loss: 1.7944 - accuracy: 0.2676 - val_loss: 1.6826 - val_accuracy: 0.3563\n",
      "Epoch 2/50\n",
      "448/448 [==============================] - 257s 573ms/step - loss: 1.6278 - accuracy: 0.3662 - val_loss: 1.5608 - val_accuracy: 0.4086\n",
      "Epoch 3/50\n",
      "448/448 [==============================] - 257s 572ms/step - loss: 1.5485 - accuracy: 0.4055 - val_loss: 1.4786 - val_accuracy: 0.4301\n",
      "Epoch 4/50\n",
      "448/448 [==============================] - 229s 510ms/step - loss: 1.4755 - accuracy: 0.4338 - val_loss: 1.4147 - val_accuracy: 0.4633\n",
      "Epoch 5/50\n",
      "448/448 [==============================] - 189s 423ms/step - loss: 1.4159 - accuracy: 0.4595 - val_loss: 1.3611 - val_accuracy: 0.4823\n",
      "Epoch 6/50\n",
      "448/448 [==============================] - 182s 406ms/step - loss: 1.3621 - accuracy: 0.4832 - val_loss: 1.3171 - val_accuracy: 0.5004\n",
      "Epoch 7/50\n",
      "448/448 [==============================] - 182s 406ms/step - loss: 1.3181 - accuracy: 0.5034 - val_loss: 1.2813 - val_accuracy: 0.5140\n",
      "Epoch 8/50\n",
      "448/448 [==============================] - 181s 403ms/step - loss: 1.2745 - accuracy: 0.5200 - val_loss: 1.2526 - val_accuracy: 0.5244\n",
      "Epoch 9/50\n",
      "448/448 [==============================] - 186s 415ms/step - loss: 1.2431 - accuracy: 0.5321 - val_loss: 1.2326 - val_accuracy: 0.5349\n",
      "Epoch 10/50\n",
      "448/448 [==============================] - 178s 398ms/step - loss: 1.2125 - accuracy: 0.5419 - val_loss: 1.2204 - val_accuracy: 0.5403\n",
      "Epoch 11/50\n",
      "448/448 [==============================] - 181s 403ms/step - loss: 1.1787 - accuracy: 0.5587 - val_loss: 1.1940 - val_accuracy: 0.5483\n",
      "Epoch 12/50\n",
      "448/448 [==============================] - 409s 913ms/step - loss: 1.1550 - accuracy: 0.5678 - val_loss: 1.1868 - val_accuracy: 0.5488\n",
      "Epoch 13/50\n",
      "448/448 [==============================] - 356s 795ms/step - loss: 1.1252 - accuracy: 0.5788 - val_loss: 1.1754 - val_accuracy: 0.5608\n",
      "Epoch 14/50\n",
      "448/448 [==============================] - 264s 590ms/step - loss: 1.1019 - accuracy: 0.5877 - val_loss: 1.1587 - val_accuracy: 0.5643\n",
      "Epoch 15/50\n",
      "448/448 [==============================] - 254s 566ms/step - loss: 1.0793 - accuracy: 0.5977 - val_loss: 1.1358 - val_accuracy: 0.5725\n",
      "Epoch 16/50\n",
      "448/448 [==============================] - 258s 576ms/step - loss: 1.0563 - accuracy: 0.6043 - val_loss: 1.1359 - val_accuracy: 0.5705\n",
      "Epoch 17/50\n",
      "448/448 [==============================] - 259s 578ms/step - loss: 1.0291 - accuracy: 0.6189 - val_loss: 1.1149 - val_accuracy: 0.5834\n",
      "Epoch 18/50\n",
      "448/448 [==============================] - 288s 644ms/step - loss: 1.0102 - accuracy: 0.6249 - val_loss: 1.1104 - val_accuracy: 0.5833\n",
      "Epoch 19/50\n",
      "448/448 [==============================] - 246s 549ms/step - loss: 0.9880 - accuracy: 0.6320 - val_loss: 1.1060 - val_accuracy: 0.5886\n",
      "Epoch 20/50\n",
      "448/448 [==============================] - 178s 398ms/step - loss: 0.9631 - accuracy: 0.6449 - val_loss: 1.1017 - val_accuracy: 0.5931\n",
      "Epoch 21/50\n",
      "448/448 [==============================] - 215s 480ms/step - loss: 0.9386 - accuracy: 0.6542 - val_loss: 1.0970 - val_accuracy: 0.5957\n",
      "Epoch 22/50\n",
      "448/448 [==============================] - 192s 429ms/step - loss: 0.9209 - accuracy: 0.6591 - val_loss: 1.1111 - val_accuracy: 0.5931\n",
      "Epoch 23/50\n",
      "448/448 [==============================] - 181s 404ms/step - loss: 0.8988 - accuracy: 0.6699 - val_loss: 1.0821 - val_accuracy: 0.5986\n",
      "Epoch 24/50\n",
      "448/448 [==============================] - 181s 404ms/step - loss: 0.8724 - accuracy: 0.6787 - val_loss: 1.0913 - val_accuracy: 0.5953\n",
      "Epoch 25/50\n",
      "448/448 [==============================] - 180s 402ms/step - loss: 0.8486 - accuracy: 0.6876 - val_loss: 1.0794 - val_accuracy: 0.6010\n",
      "Epoch 26/50\n",
      "448/448 [==============================] - 182s 406ms/step - loss: 0.8241 - accuracy: 0.6983 - val_loss: 1.0776 - val_accuracy: 0.6088\n",
      "Epoch 27/50\n",
      "448/448 [==============================] - 183s 409ms/step - loss: 0.7992 - accuracy: 0.7042 - val_loss: 1.0754 - val_accuracy: 0.6106\n",
      "Epoch 28/50\n",
      "448/448 [==============================] - 179s 400ms/step - loss: 0.7861 - accuracy: 0.7137 - val_loss: 1.0779 - val_accuracy: 0.6113\n",
      "Epoch 29/50\n",
      "448/448 [==============================] - 179s 399ms/step - loss: 0.7577 - accuracy: 0.7237 - val_loss: 1.0740 - val_accuracy: 0.6144\n",
      "Epoch 30/50\n",
      "448/448 [==============================] - 185s 412ms/step - loss: 0.7416 - accuracy: 0.7302 - val_loss: 1.0764 - val_accuracy: 0.6110\n",
      "Epoch 31/50\n",
      "448/448 [==============================] - 179s 400ms/step - loss: 0.7195 - accuracy: 0.7373 - val_loss: 1.0758 - val_accuracy: 0.6136\n",
      "Epoch 32/50\n",
      "448/448 [==============================] - 180s 402ms/step - loss: 0.6975 - accuracy: 0.7466 - val_loss: 1.0852 - val_accuracy: 0.6158\n",
      "Epoch 33/50\n",
      "448/448 [==============================] - 180s 401ms/step - loss: 0.6735 - accuracy: 0.7538 - val_loss: 1.0960 - val_accuracy: 0.6144\n",
      "Epoch 34/50\n",
      "448/448 [==============================] - 181s 403ms/step - loss: 0.6546 - accuracy: 0.7643 - val_loss: 1.0922 - val_accuracy: 0.6175\n",
      "Epoch 35/50\n",
      "448/448 [==============================] - 180s 403ms/step - loss: 0.6372 - accuracy: 0.7691 - val_loss: 1.0891 - val_accuracy: 0.6182\n",
      "Epoch 36/50\n",
      "448/448 [==============================] - 184s 410ms/step - loss: 0.6113 - accuracy: 0.7780 - val_loss: 1.1081 - val_accuracy: 0.6170\n",
      "Epoch 37/50\n",
      "448/448 [==============================] - 183s 408ms/step - loss: 0.5944 - accuracy: 0.7854 - val_loss: 1.1007 - val_accuracy: 0.6236\n",
      "Epoch 38/50\n",
      "448/448 [==============================] - 180s 401ms/step - loss: 0.5773 - accuracy: 0.7899 - val_loss: 1.1070 - val_accuracy: 0.6228\n",
      "Epoch 39/50\n",
      "448/448 [==============================] - 179s 398ms/step - loss: 0.5507 - accuracy: 0.8018 - val_loss: 1.1199 - val_accuracy: 0.6237\n",
      "Epoch 40/50\n",
      "448/448 [==============================] - 179s 400ms/step - loss: 0.5389 - accuracy: 0.8039 - val_loss: 1.1208 - val_accuracy: 0.6200\n",
      "Epoch 41/50\n",
      "448/448 [==============================] - 179s 399ms/step - loss: 0.5246 - accuracy: 0.8130 - val_loss: 1.1246 - val_accuracy: 0.6244\n",
      "Epoch 42/50\n",
      "448/448 [==============================] - 186s 414ms/step - loss: 0.4998 - accuracy: 0.8186 - val_loss: 1.1314 - val_accuracy: 0.6203\n",
      "Epoch 43/50\n",
      "448/448 [==============================] - 179s 400ms/step - loss: 0.4941 - accuracy: 0.8214 - val_loss: 1.1491 - val_accuracy: 0.6250\n",
      "Epoch 44/50\n",
      "448/448 [==============================] - 175s 390ms/step - loss: 0.4820 - accuracy: 0.8271 - val_loss: 1.1424 - val_accuracy: 0.6229\n",
      "Epoch 45/50\n",
      "448/448 [==============================] - 177s 395ms/step - loss: 0.4658 - accuracy: 0.8311 - val_loss: 1.1507 - val_accuracy: 0.6218\n",
      "Epoch 46/50\n",
      "448/448 [==============================] - 176s 393ms/step - loss: 0.4459 - accuracy: 0.8402 - val_loss: 1.1624 - val_accuracy: 0.6251\n",
      "Epoch 47/50\n",
      "448/448 [==============================] - 180s 401ms/step - loss: 0.4361 - accuracy: 0.8431 - val_loss: 1.1683 - val_accuracy: 0.6251\n",
      "Epoch 48/50\n",
      "448/448 [==============================] - 178s 397ms/step - loss: 0.4167 - accuracy: 0.8506 - val_loss: 1.1860 - val_accuracy: 0.6223\n",
      "Epoch 49/50\n",
      "448/448 [==============================] - 179s 399ms/step - loss: 0.4011 - accuracy: 0.8570 - val_loss: 1.1919 - val_accuracy: 0.6236\n",
      "Epoch 50/50\n",
      "448/448 [==============================] - 179s 400ms/step - loss: 0.3931 - accuracy: 0.8579 - val_loss: 1.1975 - val_accuracy: 0.6169\n"
     ]
    }
   ],
   "source": [
    "# Train the model\n",
    "recognition_model_info = recognition_model.fit(\n",
    "        train_generator,\n",
    "        steps_per_epoch=28709 // 64,\n",
    "        epochs=50,\n",
    "        validation_data=test_generator,\n",
    "        validation_steps=7178 // 64)"
   ]
  },
  {
   "cell_type": "code",
   "execution_count": 9,
   "id": "4672d156",
   "metadata": {},
   "outputs": [],
   "source": [
    "# Saving the trained Model Weights\n",
    "recognition_model.save_weights('recognition_model.h5')"
   ]
  },
  {
   "cell_type": "code",
   "execution_count": 10,
   "id": "5154b52e",
   "metadata": {},
   "outputs": [
    {
     "data": {
      "image/png": "[encoded data removed]",
      "text/plain": [
       "<Figure size 432x288 with 1 Axes>"
      ]
     },
     "metadata": {
      "needs_background": "light"
     },
     "output_type": "display_data"
    }
   ],
   "source": [
    "# Summarize history for accuracy\n",
    "plt.title('Model Accuracy')\n",
    "plt.plot(recognition_model_info.history['accuracy'])\n",
    "plt.plot(recognition_model_info.history['val_accuracy'])\n",
    "plt.ylabel('accuracy')\n",
    "plt.xlabel('epoch')\n",
    "plt.legend(['train', 'test'], loc='upper left')\n",
    "plt.show()"
   ]
  },
  {
   "cell_type": "code",
   "execution_count": 11,
   "id": "1b03ab83",
   "metadata": {},
   "outputs": [
    {
     "data": {
      "image/png": "[encoded data removed]",
      "text/plain": [
       "<Figure size 432x288 with 1 Axes>"
      ]
     },
     "metadata": {
      "needs_background": "light"
     },
     "output_type": "display_data"
    }
   ],
   "source": [
    "# Summarize history for loss\n",
    "plt.title('Model Loss')\n",
    "plt.plot(recognition_model_info.history['loss'])\n",
    "plt.plot(recognition_model_info.history['val_loss'])\n",
    "plt.ylabel('loss')\n",
    "plt.xlabel('epoch')\n",
    "plt.legend(['train', 'test'], loc='upper left')\n",
    "plt.show()"
   ]
  },
  {
   "cell_type": "code",
   "execution_count": 12,
   "id": "eb5c830a",
   "metadata": {},
   "outputs": [],
   "source": [
    "# For detecting bounding boxes of face in the webcam and\n",
    "# to predict the emotions we use OpenCV Haarcascade xml:\n",
    "\n",
    "# Facial emotion Dictonary with values\n",
    "facial_dict = {0: \"Angry\", 1: \"Disgusted\", 2: \"Fearful\", 3: \"Happy\", 4: \"Neutral\", 5: \"Sad\", 6: \"Surprised\"}\n"
   ]
  },
  {
   "cell_type": "code",
   "execution_count": 13,
   "id": "b3afa5e8",
   "metadata": {},
   "outputs": [],
   "source": [
    "# Start the webcam feed\n",
    "cap = cv2.VideoCapture(0)"
   ]
  },
  {
   "cell_type": "code",
   "execution_count": 14,
   "id": "4242e74a",
   "metadata": {},
   "outputs": [
    {
     "name": "stdout",
     "output_type": "stream",
     "text": [
      "1/1 [==============================] - 1s 724ms/step\n",
      "1/1 [==============================] - 0s 48ms/step\n",
      "1/1 [==============================] - 0s 50ms/step\n",
      "1/1 [==============================] - 0s 22ms/step\n",
      "1/1 [==============================] - 0s 15ms/step\n",
      "1/1 [==============================] - 0s 32ms/step\n",
      "1/1 [==============================] - 0s 16ms/step\n",
      "1/1 [==============================] - 0s 32ms/step\n",
      "1/1 [==============================] - 0s 34ms/step\n",
      "1/1 [==============================] - 0s 32ms/step\n",
      "1/1 [==============================] - 0s 16ms/step\n",
      "1/1 [==============================] - 0s 31ms/step\n",
      "1/1 [==============================] - 0s 31ms/step\n",
      "1/1 [==============================] - 0s 23ms/step\n",
      "1/1 [==============================] - 0s 32ms/step\n",
      "1/1 [==============================] - 0s 36ms/step\n",
      "1/1 [==============================] - 0s 16ms/step\n",
      "1/1 [==============================] - 0s 16ms/step\n",
      "1/1 [==============================] - 0s 16ms/step\n",
      "1/1 [==============================] - 0s 20ms/step\n",
      "1/1 [==============================] - 0s 23ms/step\n",
      "1/1 [==============================] - 0s 34ms/step\n",
      "1/1 [==============================] - 0s 22ms/step\n",
      "1/1 [==============================] - 0s 31ms/step\n",
      "1/1 [==============================] - 0s 31ms/step\n",
      "1/1 [==============================] - 0s 32ms/step\n",
      "1/1 [==============================] - 0s 16ms/step\n",
      "1/1 [==============================] - 0s 32ms/step\n",
      "1/1 [==============================] - 0s 15ms/step\n",
      "1/1 [==============================] - 0s 32ms/step\n",
      "1/1 [==============================] - 0s 17ms/step\n",
      "1/1 [==============================] - 0s 32ms/step\n",
      "1/1 [==============================] - 0s 25ms/step\n",
      "1/1 [==============================] - 0s 19ms/step\n",
      "1/1 [==============================] - 0s 26ms/step\n",
      "1/1 [==============================] - 0s 26ms/step\n",
      "1/1 [==============================] - 0s 17ms/step\n",
      "1/1 [==============================] - 0s 31ms/step\n",
      "1/1 [==============================] - 0s 16ms/step\n",
      "1/1 [==============================] - 0s 31ms/step\n",
      "1/1 [==============================] - 0s 16ms/step\n",
      "1/1 [==============================] - 0s 14ms/step\n",
      "1/1 [==============================] - 0s 32ms/step\n",
      "1/1 [==============================] - 0s 31ms/step\n",
      "1/1 [==============================] - 0s 17ms/step\n",
      "1/1 [==============================] - 0s 16ms/step\n",
      "1/1 [==============================] - 0s 16ms/step\n",
      "1/1 [==============================] - 0s 32ms/step\n",
      "1/1 [==============================] - 0s 31ms/step\n",
      "1/1 [==============================] - 0s 29ms/step\n",
      "1/1 [==============================] - 0s 25ms/step\n",
      "1/1 [==============================] - 0s 22ms/step\n",
      "1/1 [==============================] - 0s 31ms/step\n",
      "1/1 [==============================] - 0s 16ms/step\n",
      "1/1 [==============================] - 0s 20ms/step\n",
      "1/1 [==============================] - 0s 17ms/step\n",
      "1/1 [==============================] - 0s 32ms/step\n",
      "1/1 [==============================] - 0s 32ms/step\n",
      "1/1 [==============================] - 0s 19ms/step\n",
      "1/1 [==============================] - 0s 22ms/step\n",
      "1/1 [==============================] - 0s 29ms/step\n",
      "1/1 [==============================] - 0s 16ms/step\n",
      "1/1 [==============================] - 0s 31ms/step\n",
      "1/1 [==============================] - 0s 31ms/step\n",
      "1/1 [==============================] - 0s 16ms/step\n",
      "1/1 [==============================] - 0s 16ms/step\n",
      "1/1 [==============================] - 0s 31ms/step\n",
      "1/1 [==============================] - 0s 16ms/step\n",
      "1/1 [==============================] - 0s 31ms/step\n",
      "1/1 [==============================] - 0s 16ms/step\n",
      "1/1 [==============================] - 0s 16ms/step\n",
      "1/1 [==============================] - 0s 16ms/step\n",
      "1/1 [==============================] - 0s 19ms/step\n",
      "1/1 [==============================] - 0s 33ms/step\n",
      "1/1 [==============================] - 0s 20ms/step\n",
      "1/1 [==============================] - 0s 32ms/step\n",
      "1/1 [==============================] - 0s 16ms/step\n",
      "1/1 [==============================] - 0s 16ms/step\n",
      "1/1 [==============================] - 0s 21ms/step\n",
      "1/1 [==============================] - 0s 16ms/step\n",
      "1/1 [==============================] - 0s 21ms/step\n",
      "1/1 [==============================] - 0s 23ms/step\n",
      "1/1 [==============================] - 0s 25ms/step\n",
      "1/1 [==============================] - 0s 26ms/step\n",
      "1/1 [==============================] - 0s 23ms/step\n",
      "1/1 [==============================] - 0s 16ms/step\n",
      "1/1 [==============================] - 0s 32ms/step\n",
      "1/1 [==============================] - 0s 16ms/step\n",
      "1/1 [==============================] - 0s 41ms/step\n",
      "1/1 [==============================] - 0s 32ms/step\n",
      "1/1 [==============================] - 0s 31ms/step\n",
      "1/1 [==============================] - 0s 29ms/step\n",
      "1/1 [==============================] - 0s 28ms/step\n",
      "1/1 [==============================] - 0s 32ms/step\n"
     ]
    }
   ],
   "source": [
    "while True:\n",
    "    # Find haar cascade to draw bounding box around face\n",
    "    ret, frame = cap.read()\n",
    "    if not ret:\n",
    "        break\n",
    "   # bounding_box = cv2.CascadeClassifier('haarcascades_cuda/haarcascade_frontalface_default.xml')\n",
    "    bounding_box = cv2.CascadeClassifier(cv2.data.haarcascades + 'haarcascade_frontalface_default.xml')\n",
    "    gray_frame = cv2.cvtColor(frame, cv2.COLOR_BGR2GRAY)\n",
    "    num_faces = bounding_box.detectMultiScale(gray_frame,scaleFactor=1.3, minNeighbors=5)\n",
    "    \n",
    "    for (x, y, w, h) in num_faces:\n",
    "        cv2.rectangle(frame, (x, y-50), (x+w, y+h+10), (255, 0, 0), 2)\n",
    "        roi_gray_frame = gray_frame[y:y + h, x:x + w]\n",
    "        cropped_img = np.expand_dims(np.expand_dims(cv2.resize(roi_gray_frame, (48, 48)), -1), 0)\n",
    "        facial_prediction = recognition_model.predict(cropped_img)\n",
    "        maxindex = int(np.argmax(facial_prediction))\n",
    "        cv2.putText(frame, facial_dict[maxindex], (x+20, y-60), cv2.FONT_HERSHEY_SIMPLEX, 1, (255, 255, 255), 2, cv2.LINE_AA)\n",
    "\n",
    "    cv2.imshow('Video', cv2.resize(frame,(1200,860),interpolation = cv2.INTER_CUBIC))\n",
    "    if cv2.waitKey(1) & 0xFF == ord('q'):\n",
    "        break\n",
    "\n",
    "cap.release()\n",
    "cv2.destroyAllWindows()"
   ]
  },
  {
   "cell_type": "code",
   "execution_count": null,
   "id": "6fd0f129",
   "metadata": {},
   "outputs": [],
   "source": []
  }
 ],
 "metadata": {
  "kernelspec": {
   "display_name": "Python 3 (ipykernel)",
   "language": "python",
   "name": "python3"
  },
  "language_info": {
   "codemirror_mode": {
    "name": "ipython",
    "version": 3
   },
   "file_extension": ".py",
   "mimetype": "text/x-python",
   "name": "python",
   "nbconvert_exporter": "python",
   "pygments_lexer": "ipython3",
   "version": "3.9.12"
  }
 },
 "nbformat": 4,
 "nbformat_minor": 5
}
